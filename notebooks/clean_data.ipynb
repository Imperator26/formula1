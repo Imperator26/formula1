{
 "cells": [
  {
   "cell_type": "code",
   "execution_count": null,
   "metadata": {},
   "outputs": [],
   "source": [
    "import numpy as np\n",
    "import pandas as pd"
   ]
  },
  {
   "cell_type": "code",
   "execution_count": null,
   "metadata": {},
   "outputs": [],
   "source": [
    "races = pd.read_csv(\"../data/races.csv\", header=None)\n",
    "races_ = pd.DataFrame()\n",
    "races_[\"race_id\"] = pd.to_numeric(races[0], errors=\"coerce\")\n",
    "races_[\"circuit_id\"] = pd.to_numeric(races[3], errors=\"coerce\")\n",
    "races_[\"date\"] = pd.to_datetime(races[5], errors=\"coerce\", format=\"%Y-%m-%d\")"
   ]
  },
  {
   "cell_type": "code",
   "execution_count": null,
   "metadata": {},
   "outputs": [],
   "source": [
    "circuits = pd.read_csv(\"../data/circuits.csv\", header=None)\n",
    "circuits_ = pd.DataFrame()\n",
    "circuits_[\"circuit_id\"] = pd.to_numeric(circuits[0], errors=\"coerce\")\n",
    "circuits_[\"circuit\"] = circuits[1]"
   ]
  },
  {
   "cell_type": "code",
   "execution_count": null,
   "metadata": {},
   "outputs": [],
   "source": [
    "drivers = pd.read_csv(\"../data/driver.csv\", header=None)\n",
    "drivers_ = pd.DataFrame()\n",
    "drivers_[\"driver_id\"] = pd.to_numeric(drivers[0], errors=\"coerce\")\n",
    "drivers_[\"driver\"] = drivers[1]\n",
    "drivers_[\"driver_birth_date\"] = pd.to_datetime(drivers[6], errors=\"coerce\", format=\"%Y-%m-%d\")\n",
    "drivers_[\"driver_yob\"] = pd.to_numeric(drivers_.driver_birth_date.dt.strftime(\"%Y\"), errors=\"coerce\")"
   ]
  },
  {
   "cell_type": "code",
   "execution_count": null,
   "metadata": {},
   "outputs": [],
   "source": [
    "constructors = pd.read_csv(\"../data/constructors.csv\", header=None)\n",
    "constructors_ = pd.DataFrame()\n",
    "constructors_[\"constructor_id\"] = pd.to_numeric(constructors[0], errors=\"coerce\")\n",
    "constructors_[\"constructor\"] = constructors[1]"
   ]
  },
  {
   "cell_type": "code",
   "execution_count": null,
   "metadata": {},
   "outputs": [],
   "source": [
    "results = pd.read_csv(\"../data/results.csv\", header=None)"
   ]
  },
  {
   "cell_type": "code",
   "execution_count": null,
   "metadata": {},
   "outputs": [],
   "source": [
    "df = pd.DataFrame()\n",
    "\n",
    "df[\"race_id\"] = pd.to_numeric(results[1], errors=\"coerce\")\n",
    "df = df.merge(races_.loc[:, [\"race_id\", \"circuit_id\", \"date\"]], on=\"race_id\")\n",
    "df.drop(columns=[\"race_id\"], inplace=True)\n",
    "\n",
    "df[\"circuit_id\"] = pd.to_numeric(results[3], errors=\"coerce\")\n",
    "df = df.merge(circuits_.loc[:, [\"circuit_id\", \"circuit\"]], on=\"circuit_id\")\n",
    "df.drop(columns=[\"circuit_id\"], inplace=True)\n",
    "\n",
    "df[\"driver_id\"] = pd.to_numeric(results[2], errors=\"coerce\")\n",
    "#df = df.merge(drivers_.loc[:, [\"driver_id\", \"driver\", \"driver_birth_date\", \"driver_yob\"]], on=\"driver_id\")\n",
    "df = df.merge(drivers_.loc[:, [\"driver_id\", \"driver\", \"driver_birth_date\"]], on=\"driver_id\")\n",
    "df.drop(columns=[\"driver_id\"], inplace=True)\n",
    "df[\"driver_age\"] = pd.to_numeric((df[\"date\"] - df[\"driver_birth_date\"]).dt.days / 365, errors=\"coerce\")\n",
    "\n",
    "df[\"constructor_id\"] = pd.to_numeric(results[3], errors=\"coerce\")\n",
    "df = df.merge(constructors_.loc[:, [\"constructor_id\", \"constructor\"]], on=\"constructor_id\")\n",
    "df.drop(columns=[\"constructor_id\"], inplace=True)\n",
    "\n",
    "#df[\"race_id_times_constructor_id\"] = pd.to_numeric(results[1], errors=\"coerce\")*(pd.to_numeric(results[3], errors=\"coerce\"))\n",
    "#df[\"race_id_times_driver_id\"] = pd.to_numeric(results[1], errors=\"coerce\")*(pd.to_numeric(results[2], errors=\"coerce\"))\n",
    "#df[\"driver_id_times_constructor_id\"] = pd.to_numeric(results[2], errors=\"coerce\")*(pd.to_numeric(results[3], errors=\"coerce\"))\n",
    "#df[\"race_id_times_driver_id_times_constructor_id\"] = pd.to_numeric(results[1], errors=\"coerce\")*pd.to_numeric(results[2], errors=\"coerce\")*(pd.to_numeric(results[3], errors=\"coerce\"))\n",
    "\n",
    "df[\"grid\"] = pd.to_numeric(results[5], errors=\"coerce\")\n",
    "df[\"position\"] = pd.to_numeric(results[6], errors=\"coerce\")\n",
    "df[\"position\"].fillna(np.max(df.position), inplace=True)\n",
    "\n",
    "df.drop(columns=[\"date\", \"driver_birth_date\"], inplace=True)\n",
    "\n",
    "df[df.grid > 20] = 20\n",
    "df[df.position > 20] = 20\n",
    "\n",
    "df"
   ]
  },
  {
   "cell_type": "code",
   "execution_count": null,
   "metadata": {},
   "outputs": [],
   "source": [
    "df.to_csv(\"../data/data.csv\", index=False)"
   ]
  }
 ],
 "metadata": {
  "kernelspec": {
   "display_name": "Python 3",
   "language": "python",
   "name": "python3"
  },
  "language_info": {
   "codemirror_mode": {
    "name": "ipython",
    "version": 3
   },
   "file_extension": ".py",
   "mimetype": "text/x-python",
   "name": "python",
   "nbconvert_exporter": "python",
   "pygments_lexer": "ipython3",
   "version": "3.7.3"
  }
 },
 "nbformat": 4,
 "nbformat_minor": 2
}

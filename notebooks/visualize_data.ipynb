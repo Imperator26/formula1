{
 "cells": [
  {
   "cell_type": "code",
   "execution_count": null,
   "metadata": {},
   "outputs": [],
   "source": [
    "import pandas as pd\n",
    "from pandas.plotting import scatter_matrix\n",
    "import matplotlib.pyplot as plt"
   ]
  },
  {
   "cell_type": "code",
   "execution_count": null,
   "metadata": {},
   "outputs": [],
   "source": [
    "%matplotlib inline"
   ]
  },
  {
   "cell_type": "code",
   "execution_count": null,
   "metadata": {},
   "outputs": [],
   "source": [
    "circuits = pd.read_csv(\"../data/circuits.csv\", header=None)\n",
    "circuits.columns = [\"circuitId\", \"circuitRef\", \"circuitName\", \"circuitLocation\", \"circuitCountry\", \"circuitLatitude\", \"circuitLongitude\", \"circuitAltitude\", \"circuitUrl\"]\n",
    "circuits.circuitAltitude = pd.to_numeric(circuits.circuitAltitude, errors=\"coerce\")\n",
    "circuits.head()"
   ]
  },
  {
   "cell_type": "code",
   "execution_count": null,
   "metadata": {},
   "outputs": [],
   "source": [
    "constructors = pd.read_csv(\"../data/constructors.csv\", header=None)\n",
    "constructors.columns = [\"constructorId\", \"constructorRef\", \"constructorName\", \"constructorNationality\", \"constructorUrl\"]\n",
    "constructors.head()"
   ]
  },
  {
   "cell_type": "code",
   "execution_count": null,
   "metadata": {},
   "outputs": [],
   "source": [
    "drivers = pd.read_csv(\"../data/driver.csv\", header=None)\n",
    "drivers.columns = [\"driverId\", \"driverRef\", \"driverNumber\", \"driverCode\", \"driverName\", \"driverSurname\", \"driverBirthDate\", \"driverNationality\", \"driverUrl\"]\n",
    "drivers.driverNumber = pd.to_numeric(drivers.driverNumber, errors=\"coerce\")\n",
    "drivers.loc[drivers.driverCode == \"\\\\N\", \"driverCode\"] = None\n",
    "drivers.driverBirthDate = pd.to_datetime(drivers.driverBirthDate, errors=\"coerce\", format=\"%Y-%m-%d\")\n",
    "drivers[\"driverYearOfBirth\"] = pd.to_numeric(drivers.driverBirthDate.dt.strftime(\"%Y\"), errors=\"coerce\")\n",
    "drivers.head()"
   ]
  },
  {
   "cell_type": "code",
   "execution_count": null,
   "metadata": {},
   "outputs": [],
   "source": [
    "races = pd.read_csv(\"../data/races.csv\", header=None)\n",
    "races.columns = [\"raceId\", \"raceYear\", \"raceRound\", \"circuitId\", \"raceName\", \"raceDate\", \"raceTime\", \"raceUrl\"]\n",
    "races.raceDate = pd.to_datetime(races.raceDate, errors=\"coerce\", format=\"%Y-%m-%d\")\n",
    "races.raceTime = pd.to_datetime(races.raceTime, errors=\"coerce\", format=\"%H:%M:%s\")\n",
    "races.head()"
   ]
  },
  {
   "cell_type": "code",
   "execution_count": null,
   "metadata": {},
   "outputs": [],
   "source": [
    "results = pd.read_csv(\"../data/results.csv\", header=None)\n",
    "results.columns = [\"resultId\", \"raceId\", \"driverId\", \"constructorId\", \"driverNumber\", \"grid\", \"position\", \"positionText\", \"positionOrder\", \"points\", \"laps\", \"time\", \"milliseconds\", \"fastestLap\", \"fastestLapRank\", \"fastestLapTime\", \"fastestLapSpeed\", \"statusId\"]\n",
    "results.driverNumber = pd.to_numeric(results.driverNumber, errors=\"coerce\")\n",
    "results.position = pd.to_numeric(results.position, errors=\"coerce\")\n",
    "results.milliseconds = pd.to_numeric(results.milliseconds, errors=\"coerce\")\n",
    "results.fastestLap = pd.to_numeric(results.fastestLap, errors=\"coerce\")\n",
    "results.fastestLapRank = pd.to_numeric(results.fastestLapRank, errors=\"coerce\")\n",
    "results.fastestLapTime = pd.to_datetime(results.fastestLapTime, errors=\"coerce\", format=\"%M:%s.%f\")\n",
    "results.fastestLapSpeed = pd.to_numeric(results.fastestLapSpeed, errors=\"coerce\")\n",
    "results.head()"
   ]
  },
  {
   "cell_type": "code",
   "execution_count": null,
   "metadata": {},
   "outputs": [],
   "source": [
    "df = pd.read_csv(\"../data/data.csv\")"
   ]
  },
  {
   "cell_type": "code",
   "execution_count": null,
   "metadata": {},
   "outputs": [],
   "source": [
    "df.info()"
   ]
  },
  {
   "cell_type": "code",
   "execution_count": null,
   "metadata": {},
   "outputs": [],
   "source": [
    "df.describe()"
   ]
  },
  {
   "cell_type": "code",
   "execution_count": null,
   "metadata": {},
   "outputs": [],
   "source": [
    "df.head()"
   ]
  },
  {
   "cell_type": "code",
   "execution_count": null,
   "metadata": {},
   "outputs": [],
   "source": [
    "df.hist()"
   ]
  },
  {
   "cell_type": "code",
   "execution_count": null,
   "metadata": {},
   "outputs": [],
   "source": [
    "df.plot(kind=\"scatter\", x=\"grid\", y=\"position\", alpha=0.1)"
   ]
  },
  {
   "cell_type": "code",
   "execution_count": null,
   "metadata": {},
   "outputs": [],
   "source": [
    "corr_matrix = df.corr()"
   ]
  },
  {
   "cell_type": "code",
   "execution_count": null,
   "metadata": {},
   "outputs": [],
   "source": [
    "corr_matrix"
   ]
  },
  {
   "cell_type": "code",
   "execution_count": null,
   "metadata": {},
   "outputs": [],
   "source": [
    "corr_matrix[\"position\"].sort_values(ascending=False)"
   ]
  },
  {
   "cell_type": "code",
   "execution_count": null,
   "metadata": {},
   "outputs": [],
   "source": [
    "attributes = [\"position\", \"grid\", \"constructor_id\", \"driver_id\"]\n",
    "scatter_matrix(df[attributes])"
   ]
  }
 ],
 "metadata": {
  "kernelspec": {
   "display_name": "Python 3",
   "language": "python",
   "name": "python3"
  },
  "language_info": {
   "codemirror_mode": {
    "name": "ipython",
    "version": 3
   },
   "file_extension": ".py",
   "mimetype": "text/x-python",
   "name": "python",
   "nbconvert_exporter": "python",
   "pygments_lexer": "ipython3",
   "version": "3.7.3"
  }
 },
 "nbformat": 4,
 "nbformat_minor": 2
}
